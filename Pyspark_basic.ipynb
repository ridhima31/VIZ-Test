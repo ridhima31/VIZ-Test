{
  "nbformat": 4,
  "nbformat_minor": 0,
  "metadata": {
    "colab": {
      "provenance": [],
      "authorship_tag": "ABX9TyNOwLA9sfn6dzdnfTn4FaT8",
      "include_colab_link": true
    },
    "kernelspec": {
      "name": "python3",
      "display_name": "Python 3"
    },
    "language_info": {
      "name": "python"
    }
  },
  "cells": [
    {
      "cell_type": "markdown",
      "metadata": {
        "id": "view-in-github",
        "colab_type": "text"
      },
      "source": [
        "<a href=\"https://colab.research.google.com/github/ridhima31/VIZ-Test/blob/master/Pyspark_basic.ipynb\" target=\"_parent\"><img src=\"https://colab.research.google.com/assets/colab-badge.svg\" alt=\"Open In Colab\"/></a>"
      ]
    },
    {
      "cell_type": "code",
      "execution_count": null,
      "metadata": {
        "colab": {
          "base_uri": "https://localhost:8080/"
        },
        "id": "mZv3R44KCMcg",
        "outputId": "c1b08c4c-41b0-4b5e-9e52-f91a47c2fb62"
      },
      "outputs": [
        {
          "output_type": "stream",
          "name": "stdout",
          "text": [
            "Collecting PySpark\n",
            "  Downloading pyspark-3.5.0.tar.gz (316.9 MB)\n",
            "\u001b[2K     \u001b[90m━━━━━━━━━━━━━━━━━━━━━━━━━━━━━━━━━━━━━━━━\u001b[0m \u001b[32m316.9/316.9 MB\u001b[0m \u001b[31m2.8 MB/s\u001b[0m eta \u001b[36m0:00:00\u001b[0m\n",
            "\u001b[?25h  Preparing metadata (setup.py) ... \u001b[?25l\u001b[?25hdone\n",
            "Requirement already satisfied: py4j==0.10.9.7 in /usr/local/lib/python3.10/dist-packages (from PySpark) (0.10.9.7)\n",
            "Building wheels for collected packages: PySpark\n",
            "  Building wheel for PySpark (setup.py) ... \u001b[?25l\u001b[?25hdone\n",
            "  Created wheel for PySpark: filename=pyspark-3.5.0-py2.py3-none-any.whl size=317425345 sha256=57ae8162dcaea8751a3b00c3fc798621237b9a7e585412b1873538e0505eb790\n",
            "  Stored in directory: /root/.cache/pip/wheels/41/4e/10/c2cf2467f71c678cfc8a6b9ac9241e5e44a01940da8fbb17fc\n",
            "Successfully built PySpark\n",
            "Installing collected packages: PySpark\n",
            "Successfully installed PySpark-3.5.0\n"
          ]
        }
      ],
      "source": [
        "pip install PySpark"
      ]
    },
    {
      "cell_type": "code",
      "source": [
        "from pyspark.sql import SparkSession\n",
        "import pyspark.sql.functions as F"
      ],
      "metadata": {
        "id": "pvjC6l2dCqvz"
      },
      "execution_count": 13,
      "outputs": []
    },
    {
      "cell_type": "code",
      "source": [
        "file_path='https://raw.githubusercontent.com/tirthajyoti/Spark-with-Python/master/Python-and-Spark-for-Big-Data-master/Spark_DataFrame_Project_Exercise/walmart_stock.csv'"
      ],
      "metadata": {
        "id": "GCCNOjwFCwu0"
      },
      "execution_count": 39,
      "outputs": []
    },
    {
      "cell_type": "code",
      "source": [
        "spark=SparkSession.builder.appName(\"TestingSpark\").getOrCreate()"
      ],
      "metadata": {
        "id": "nxXoDQXkMKsU"
      },
      "execution_count": 15,
      "outputs": []
    },
    {
      "cell_type": "code",
      "source": [
        "import pandas as pd"
      ],
      "metadata": {
        "id": "SDFXiKf_OIqD"
      },
      "execution_count": 21,
      "outputs": []
    },
    {
      "cell_type": "code",
      "source": [
        "pdf=pd.read_csv(file_path)"
      ],
      "metadata": {
        "id": "SvbpthuQOPgg"
      },
      "execution_count": 40,
      "outputs": []
    },
    {
      "cell_type": "code",
      "source": [
        "spark_df=spark.createDataFrame(pdf)"
      ],
      "metadata": {
        "id": "0Axoo13TQhFB"
      },
      "execution_count": 41,
      "outputs": []
    },
    {
      "cell_type": "code",
      "source": [
        "spark_df.show(10)"
      ],
      "metadata": {
        "colab": {
          "base_uri": "https://localhost:8080/"
        },
        "id": "uHgPVWiWQxoM",
        "outputId": "14dbedb4-fe3d-4eb7-8b75-6e39f77dbf09"
      },
      "execution_count": 43,
      "outputs": [
        {
          "output_type": "stream",
          "name": "stdout",
          "text": [
            "+----------+---------+---------+---------+---------+--------+---------+\n",
            "|      Date|     Open|     High|      Low|    Close|  Volume|Adj Close|\n",
            "+----------+---------+---------+---------+---------+--------+---------+\n",
            "|2012-01-03|59.970001|61.060001|59.869999|60.330002|12668800|52.619235|\n",
            "|2012-01-04|60.209999|60.349998|59.470001|59.709999| 9593300|52.078475|\n",
            "|2012-01-05|59.349998|59.619999|58.369999|59.419998|12768200|51.825539|\n",
            "|2012-01-06|59.419998|59.450001|58.869999|     59.0| 8069400| 51.45922|\n",
            "|2012-01-09|59.029999|59.549999|58.919998|    59.18| 6679300|51.616215|\n",
            "|2012-01-10|    59.43|59.709999|    58.98|59.040001| 6907300|51.494109|\n",
            "|2012-01-11|59.060001|59.529999|59.040001|59.400002| 6365600|51.808098|\n",
            "|2012-01-12|59.790001|     60.0|59.400002|     59.5| 7236400|51.895316|\n",
            "|2012-01-13|    59.18|59.610001|59.009998|59.540001| 7729300|51.930204|\n",
            "|2012-01-17|59.869999|60.110001|    59.52|59.849998| 8500000|52.200581|\n",
            "+----------+---------+---------+---------+---------+--------+---------+\n",
            "only showing top 10 rows\n",
            "\n"
          ]
        }
      ]
    },
    {
      "cell_type": "code",
      "source": [
        "spark_df.columns"
      ],
      "metadata": {
        "colab": {
          "base_uri": "https://localhost:8080/"
        },
        "id": "pqeyX_WDRPfg",
        "outputId": "642aec35-d2e6-4ad2-86ce-2cdb6033b353"
      },
      "execution_count": 46,
      "outputs": [
        {
          "output_type": "execute_result",
          "data": {
            "text/plain": [
              "['Date', 'Open', 'High', 'Low', 'Close', 'Volume', 'Adj Close']"
            ]
          },
          "metadata": {},
          "execution_count": 46
        }
      ]
    },
    {
      "cell_type": "code",
      "source": [
        "spark_df.printSchema()"
      ],
      "metadata": {
        "colab": {
          "base_uri": "https://localhost:8080/"
        },
        "id": "7_XSG-JWRcWD",
        "outputId": "f531cfcc-6532-415d-c60b-6bbfe11c5c4e"
      },
      "execution_count": 51,
      "outputs": [
        {
          "output_type": "stream",
          "name": "stdout",
          "text": [
            "root\n",
            " |-- Date: string (nullable = true)\n",
            " |-- Open: double (nullable = true)\n",
            " |-- High: double (nullable = true)\n",
            " |-- Low: double (nullable = true)\n",
            " |-- Close: double (nullable = true)\n",
            " |-- Volume: long (nullable = true)\n",
            " |-- Adj Close: double (nullable = true)\n",
            "\n"
          ]
        }
      ]
    },
    {
      "cell_type": "code",
      "source": [
        "spark_df.describe().show()"
      ],
      "metadata": {
        "colab": {
          "base_uri": "https://localhost:8080/"
        },
        "id": "kLotj512R2QL",
        "outputId": "4a076e71-f8fe-4f74-e3e0-e113a1d86f0f"
      },
      "execution_count": 54,
      "outputs": [
        {
          "output_type": "stream",
          "name": "stdout",
          "text": [
            "+-------+----------+-----------------+-----------------+-----------------+-----------------+-----------------+-----------------+\n",
            "|summary|      Date|             Open|             High|              Low|            Close|           Volume|        Adj Close|\n",
            "+-------+----------+-----------------+-----------------+-----------------+-----------------+-----------------+-----------------+\n",
            "|  count|      1258|             1258|             1258|             1258|             1258|             1258|             1258|\n",
            "|   mean|      NULL|72.35785375357703|72.83938807631154|71.91860095945944|72.38844998012719|8222093.481717011| 67.2388384872814|\n",
            "| stddev|      NULL|6.768090244708284|6.768186808159222|6.744075756255509|6.756859163732981|  4519780.8431556|6.722609449996835|\n",
            "|    min|2012-01-03|        56.389999|        57.060001|        56.299999|        56.419998|          2094900|        50.363689|\n",
            "|    max|2016-12-30|        90.800003|        90.970001|            89.25|        90.470001|         80898100|84.91421600000001|\n",
            "+-------+----------+-----------------+-----------------+-----------------+-----------------+-----------------+-----------------+\n",
            "\n"
          ]
        }
      ]
    },
    {
      "cell_type": "code",
      "source": [
        "from typing import cast\n"
      ],
      "metadata": {
        "id": "FGBxRC1jSata"
      },
      "execution_count": 64,
      "outputs": []
    },
    {
      "cell_type": "code",
      "source": [
        "df1=spark_df.withColumn(\"HV Ratio\",F.round((spark_df[\"High\"]/spark_df[\"Volume\"])))"
      ],
      "metadata": {
        "id": "AaGDmhbcTtfb"
      },
      "execution_count": 71,
      "outputs": []
    },
    {
      "cell_type": "code",
      "source": [
        "df1.show()"
      ],
      "metadata": {
        "colab": {
          "base_uri": "https://localhost:8080/"
        },
        "id": "GMZOnKlfVYZB",
        "outputId": "6ab72f77-3da2-424b-fe8f-41d81498cb21"
      },
      "execution_count": 72,
      "outputs": [
        {
          "output_type": "stream",
          "name": "stdout",
          "text": [
            "+----------+---------+---------+---------+---------+--------+------------------+--------+\n",
            "|      Date|     Open|     High|      Low|    Close|  Volume|         Adj Close|HV Ratio|\n",
            "+----------+---------+---------+---------+---------+--------+------------------+--------+\n",
            "|2012-01-03|59.970001|61.060001|59.869999|60.330002|12668800|         52.619235|     0.0|\n",
            "|2012-01-04|60.209999|60.349998|59.470001|59.709999| 9593300|         52.078475|     0.0|\n",
            "|2012-01-05|59.349998|59.619999|58.369999|59.419998|12768200|         51.825539|     0.0|\n",
            "|2012-01-06|59.419998|59.450001|58.869999|     59.0| 8069400|          51.45922|     0.0|\n",
            "|2012-01-09|59.029999|59.549999|58.919998|    59.18| 6679300|         51.616215|     0.0|\n",
            "|2012-01-10|    59.43|59.709999|    58.98|59.040001| 6907300|         51.494109|     0.0|\n",
            "|2012-01-11|59.060001|59.529999|59.040001|59.400002| 6365600|         51.808098|     0.0|\n",
            "|2012-01-12|59.790001|     60.0|59.400002|     59.5| 7236400|         51.895316|     0.0|\n",
            "|2012-01-13|    59.18|59.610001|59.009998|59.540001| 7729300|         51.930204|     0.0|\n",
            "|2012-01-17|59.869999|60.110001|    59.52|59.849998| 8500000|         52.200581|     0.0|\n",
            "|2012-01-18|59.790001|60.029999|59.650002|60.009998| 5911400|         52.340131|     0.0|\n",
            "|2012-01-19|    59.93|    60.73|    59.75|60.610001| 9234600|         52.863447|     0.0|\n",
            "|2012-01-20|    60.75|    61.25|60.669998|61.009998|10378800|         53.212321|     0.0|\n",
            "|2012-01-23|60.810001|    60.98|60.509998|    60.91| 7134100|         53.125104|     0.0|\n",
            "|2012-01-24|    60.75|     62.0|    60.75|61.389999| 7362800| 53.54375400000001|     0.0|\n",
            "|2012-01-25|    61.18|61.610001|61.040001|61.470001| 5915800| 53.61353100000001|     0.0|\n",
            "|2012-01-26|61.799999|    61.84|    60.77|60.970001| 7436200|         53.177436|     0.0|\n",
            "|2012-01-27|60.860001|61.119999|60.540001|60.709999| 6287300|         52.950665|     0.0|\n",
            "|2012-01-30|60.470001|    61.32|60.349998|61.299999| 7636900|         53.465257|     0.0|\n",
            "|2012-01-31|61.529999|    61.57|60.580002|61.360001| 9761500|53.517590000000006|     0.0|\n",
            "+----------+---------+---------+---------+---------+--------+------------------+--------+\n",
            "only showing top 20 rows\n",
            "\n"
          ]
        }
      ]
    },
    {
      "cell_type": "code",
      "source": [],
      "metadata": {
        "id": "Pge7wCClVuaJ"
      },
      "execution_count": null,
      "outputs": []
    },
    {
      "cell_type": "code",
      "source": [
        "df2=spark_df.withColumn(\"HV Ratio\",(spark_df[\"High\"]/spark_df[\"Volume\"]))"
      ],
      "metadata": {
        "id": "yCUFccobVNPC"
      },
      "execution_count": 69,
      "outputs": []
    },
    {
      "cell_type": "code",
      "source": [
        "df2.show()"
      ],
      "metadata": {
        "colab": {
          "base_uri": "https://localhost:8080/"
        },
        "id": "Zk869OKUVUAb",
        "outputId": "456f903e-656b-42e7-8d9a-7cb0f0517ec7"
      },
      "execution_count": 70,
      "outputs": [
        {
          "output_type": "stream",
          "name": "stdout",
          "text": [
            "+----------+---------+---------+---------+---------+--------+------------------+--------------------+\n",
            "|      Date|     Open|     High|      Low|    Close|  Volume|         Adj Close|            HV Ratio|\n",
            "+----------+---------+---------+---------+---------+--------+------------------+--------------------+\n",
            "|2012-01-03|59.970001|61.060001|59.869999|60.330002|12668800|         52.619235|4.819714653321546E-6|\n",
            "|2012-01-04|60.209999|60.349998|59.470001|59.709999| 9593300|         52.078475|6.290848613094555E-6|\n",
            "|2012-01-05|59.349998|59.619999|58.369999|59.419998|12768200|         51.825539|4.669412994783916E-6|\n",
            "|2012-01-06|59.419998|59.450001|58.869999|     59.0| 8069400|          51.45922|7.367338463826307E-6|\n",
            "|2012-01-09|59.029999|59.549999|58.919998|    59.18| 6679300|         51.616215|8.915604778943901E-6|\n",
            "|2012-01-10|    59.43|59.709999|    58.98|59.040001| 6907300|         51.494109|8.644477436914568E-6|\n",
            "|2012-01-11|59.060001|59.529999|59.040001|59.400002| 6365600|         51.808098|9.351828421515645E-6|\n",
            "|2012-01-12|59.790001|     60.0|59.400002|     59.5| 7236400|         51.895316| 8.29141562102703E-6|\n",
            "|2012-01-13|    59.18|59.610001|59.009998|59.540001| 7729300|         51.930204|7.712212102001474E-6|\n",
            "|2012-01-17|59.869999|60.110001|    59.52|59.849998| 8500000|         52.200581|7.071764823529411...|\n",
            "|2012-01-18|59.790001|60.029999|59.650002|60.009998| 5911400|         52.340131|1.015495466386981E-5|\n",
            "|2012-01-19|    59.93|    60.73|    59.75|60.610001| 9234600|         52.863447|6.576354146362592...|\n",
            "|2012-01-20|    60.75|    61.25|60.669998|61.009998|10378800|         53.212321| 5.90145296180676E-6|\n",
            "|2012-01-23|60.810001|    60.98|60.509998|    60.91| 7134100|         53.125104|8.547679455011844E-6|\n",
            "|2012-01-24|    60.75|     62.0|    60.75|61.389999| 7362800| 53.54375400000001|8.420709512685392E-6|\n",
            "|2012-01-25|    61.18|61.610001|61.040001|61.470001| 5915800| 53.61353100000001|1.041448341728929...|\n",
            "|2012-01-26|61.799999|    61.84|    60.77|60.970001| 7436200|         53.177436|8.316075414862431E-6|\n",
            "|2012-01-27|60.860001|61.119999|60.540001|60.709999| 6287300|         52.950665|9.721183814992126E-6|\n",
            "|2012-01-30|60.470001|    61.32|60.349998|61.299999| 7636900|         53.465257|8.029436027707578E-6|\n",
            "|2012-01-31|61.529999|    61.57|60.580002|61.360001| 9761500|53.517590000000006|6.307432259386365E-6|\n",
            "+----------+---------+---------+---------+---------+--------+------------------+--------------------+\n",
            "only showing top 20 rows\n",
            "\n"
          ]
        }
      ]
    },
    {
      "cell_type": "code",
      "source": [
        "df2.select(df2[\"Date\"]).orderBy(df2[\"High\"].desc()).show(1)"
      ],
      "metadata": {
        "colab": {
          "base_uri": "https://localhost:8080/"
        },
        "id": "g-Mw4Gg7VvX9",
        "outputId": "55171d0e-6dc5-464c-dbee-dea4ae43a39e"
      },
      "execution_count": 84,
      "outputs": [
        {
          "output_type": "stream",
          "name": "stdout",
          "text": [
            "+----------+\n",
            "|      Date|\n",
            "+----------+\n",
            "|2015-01-13|\n",
            "+----------+\n",
            "only showing top 1 row\n",
            "\n"
          ]
        }
      ]
    },
    {
      "cell_type": "code",
      "source": [
        "df2.orderBy(df2[\"High\"].desc()).head(1)[0][0]"
      ],
      "metadata": {
        "colab": {
          "base_uri": "https://localhost:8080/",
          "height": 35
        },
        "id": "6qK0kRgkXGEH",
        "outputId": "82b075e4-2c13-4d82-e3e2-5c7718a44384"
      },
      "execution_count": 87,
      "outputs": [
        {
          "output_type": "execute_result",
          "data": {
            "text/plain": [
              "'2015-01-13'"
            ],
            "application/vnd.google.colaboratory.intrinsic+json": {
              "type": "string"
            }
          },
          "metadata": {},
          "execution_count": 87
        }
      ]
    },
    {
      "cell_type": "code",
      "source": [
        "df2.select(F.avg(\"Close\"),F.mean(\"Volume\"),F.max(\"Volume\")).show()"
      ],
      "metadata": {
        "colab": {
          "base_uri": "https://localhost:8080/"
        },
        "id": "sNpU_NHYXWpP",
        "outputId": "64c95395-5aeb-4a88-d163-2ae775f612c3"
      },
      "execution_count": 100,
      "outputs": [
        {
          "output_type": "stream",
          "name": "stdout",
          "text": [
            "+-----------------+-----------------+-----------+\n",
            "|       avg(Close)|      avg(Volume)|max(Volume)|\n",
            "+-----------------+-----------------+-----------+\n",
            "|72.38844998012719|8222093.481717011|   80898100|\n",
            "+-----------------+-----------------+-----------+\n",
            "\n"
          ]
        }
      ]
    },
    {
      "cell_type": "code",
      "source": [
        "df2.select(\"Date\").where(df2[\"Close\"]<60).count()"
      ],
      "metadata": {
        "colab": {
          "base_uri": "https://localhost:8080/"
        },
        "id": "sEmP-Gq5YZrQ",
        "outputId": "23c1cf60-69f2-485a-c168-04f0e718f8bf"
      },
      "execution_count": 108,
      "outputs": [
        {
          "output_type": "execute_result",
          "data": {
            "text/plain": [
              "81"
            ]
          },
          "metadata": {},
          "execution_count": 108
        }
      ]
    },
    {
      "cell_type": "code",
      "source": [
        "(df2.select(\"Date\").where(df2[\"High\"]>80).count())/df2.count()"
      ],
      "metadata": {
        "colab": {
          "base_uri": "https://localhost:8080/"
        },
        "id": "ucwOt6cNZD87",
        "outputId": "0ceff5c3-3374-43de-9d78-8946123eae4d"
      },
      "execution_count": 109,
      "outputs": [
        {
          "output_type": "execute_result",
          "data": {
            "text/plain": [
              "0.09141494435612083"
            ]
          },
          "metadata": {},
          "execution_count": 109
        }
      ]
    },
    {
      "cell_type": "code",
      "source": [
        "df2.groupBy(F.year(df2[\"Date\"])).agg(F.max(df2[\"High\"])).show()"
      ],
      "metadata": {
        "colab": {
          "base_uri": "https://localhost:8080/"
        },
        "id": "oGSy213BZQRz",
        "outputId": "d38abb0d-0cdd-46b5-dcb2-379e39ef8fb2"
      },
      "execution_count": 116,
      "outputs": [
        {
          "output_type": "stream",
          "name": "stdout",
          "text": [
            "+----------+---------+\n",
            "|year(Date)|max(High)|\n",
            "+----------+---------+\n",
            "|      2013|81.370003|\n",
            "|      2014|88.089996|\n",
            "|      2012|77.599998|\n",
            "|      2015|90.970001|\n",
            "|      2016|75.190002|\n",
            "+----------+---------+\n",
            "\n"
          ]
        }
      ]
    },
    {
      "cell_type": "code",
      "source": [
        "df2.groupBy(F.month(df2[\"Date\"])).agg(F.avg(df2[\"Close\"])).show()"
      ],
      "metadata": {
        "colab": {
          "base_uri": "https://localhost:8080/"
        },
        "id": "9ThZlpGwZ8rr",
        "outputId": "037c7985-622b-4665-e773-df9530c6ec19"
      },
      "execution_count": 118,
      "outputs": [
        {
          "output_type": "stream",
          "name": "stdout",
          "text": [
            "+-----------+-----------------+\n",
            "|month(Date)|       avg(Close)|\n",
            "+-----------+-----------------+\n",
            "|         12|72.84792478301885|\n",
            "|          1|71.44801958415842|\n",
            "|          6|72.49537742452831|\n",
            "|          3|71.77794377570092|\n",
            "|          5|72.30971688679246|\n",
            "|          9|72.18411785294116|\n",
            "|          4|72.97361900952382|\n",
            "|          8|73.02981855454544|\n",
            "|          7|74.43971943925233|\n",
            "|         10|71.57854545454545|\n",
            "|         11|72.11108930693068|\n",
            "|          2|71.30680444329897|\n",
            "+-----------+-----------------+\n",
            "\n"
          ]
        }
      ]
    }
  ]
}