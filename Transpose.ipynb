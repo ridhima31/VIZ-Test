{
  "nbformat": 4,
  "nbformat_minor": 0,
  "metadata": {
    "colab": {
      "provenance": [],
      "authorship_tag": "ABX9TyN9pyLRgRXfy8OOCV4XJ978",
      "include_colab_link": true
    },
    "kernelspec": {
      "name": "python3",
      "display_name": "Python 3"
    },
    "language_info": {
      "name": "python"
    }
  },
  "cells": [
    {
      "cell_type": "markdown",
      "metadata": {
        "id": "view-in-github",
        "colab_type": "text"
      },
      "source": [
        "<a href=\"https://colab.research.google.com/github/ridhima31/VIZ-Test/blob/master/Transpose.ipynb\" target=\"_parent\"><img src=\"https://colab.research.google.com/assets/colab-badge.svg\" alt=\"Open In Colab\"/></a>"
      ]
    },
    {
      "cell_type": "code",
      "execution_count": 1,
      "metadata": {
        "colab": {
          "base_uri": "https://localhost:8080/"
        },
        "id": "-ESZjHg_uIzx",
        "outputId": "0ea41f11-cc11-4c1e-f71d-a1a96e8e0d27"
      },
      "outputs": [
        {
          "output_type": "stream",
          "name": "stdout",
          "text": [
            "Collecting PySpark\n",
            "  Downloading pyspark-3.5.0.tar.gz (316.9 MB)\n",
            "\u001b[2K     \u001b[90m━━━━━━━━━━━━━━━━━━━━━━━━━━━━━━━━━━━━━━━━\u001b[0m \u001b[32m316.9/316.9 MB\u001b[0m \u001b[31m3.8 MB/s\u001b[0m eta \u001b[36m0:00:00\u001b[0m\n",
            "\u001b[?25h  Preparing metadata (setup.py) ... \u001b[?25l\u001b[?25hdone\n",
            "Requirement already satisfied: py4j==0.10.9.7 in /usr/local/lib/python3.10/dist-packages (from PySpark) (0.10.9.7)\n",
            "Building wheels for collected packages: PySpark\n",
            "  Building wheel for PySpark (setup.py) ... \u001b[?25l\u001b[?25hdone\n",
            "  Created wheel for PySpark: filename=pyspark-3.5.0-py2.py3-none-any.whl size=317425345 sha256=2ef16fdecd656ce6db52a79cf9831b5b5c7d8793e3267241e28cdfcb0d86bb25\n",
            "  Stored in directory: /root/.cache/pip/wheels/41/4e/10/c2cf2467f71c678cfc8a6b9ac9241e5e44a01940da8fbb17fc\n",
            "Successfully built PySpark\n",
            "Installing collected packages: PySpark\n",
            "Successfully installed PySpark-3.5.0\n"
          ]
        }
      ],
      "source": [
        "pip install PySpark"
      ]
    },
    {
      "cell_type": "code",
      "source": [
        "from pyspark.sql import SparkSession\n",
        "from pyspark.sql.functions import expr"
      ],
      "metadata": {
        "id": "5aT_O-RbuvDd"
      },
      "execution_count": 2,
      "outputs": []
    },
    {
      "cell_type": "code",
      "source": [
        "# Create a Spark session\n",
        "spark = SparkSession.builder.appName(\"TransposeExample\").getOrCreate()\n",
        "\n",
        "# Sample DataFrame\n",
        "data = [(\"A\", 1, 4, 8), (\"A\", 1, 5,9), (\"C\", 3, 6,1)]\n",
        "columns = [\"ID\", \"Value1\", \"Value2\"]\n"
      ],
      "metadata": {
        "id": "Uy8sekxpuvMi"
      },
      "execution_count": 13,
      "outputs": []
    },
    {
      "cell_type": "code",
      "source": [
        "df = spark.createDataFrame(data, columns)"
      ],
      "metadata": {
        "id": "iOYp50SxvAfI"
      },
      "execution_count": 14,
      "outputs": []
    },
    {
      "cell_type": "code",
      "source": [
        "print(\"Original DataFrame:\")\n",
        "df.show()"
      ],
      "metadata": {
        "colab": {
          "base_uri": "https://localhost:8080/"
        },
        "id": "fvkmfafhuvPa",
        "outputId": "06301ca2-e7bc-4b1e-e9d2-5b2341175c6f"
      },
      "execution_count": 15,
      "outputs": [
        {
          "output_type": "stream",
          "name": "stdout",
          "text": [
            "Original DataFrame:\n",
            "+---+------+------+---+\n",
            "| ID|Value1|Value2| _4|\n",
            "+---+------+------+---+\n",
            "|  A|     1|     4|  8|\n",
            "|  A|     1|     5|  9|\n",
            "|  C|     3|     6|  1|\n",
            "+---+------+------+---+\n",
            "\n"
          ]
        }
      ]
    },
    {
      "cell_type": "code",
      "source": [
        "transposed_df = df.groupBy(\"ID\").pivot(\"Value1\").agg(expr(\"last(Value2)\"))\n",
        "\n",
        "print(\"\\nTransposed DataFrame:\")\n",
        "transposed_df.show()"
      ],
      "metadata": {
        "colab": {
          "base_uri": "https://localhost:8080/"
        },
        "id": "dv__nliEuvSR",
        "outputId": "f8734c2f-5865-4ebd-ca36-81ce77ea0e9f"
      },
      "execution_count": 17,
      "outputs": [
        {
          "output_type": "stream",
          "name": "stdout",
          "text": [
            "\n",
            "Transposed DataFrame:\n",
            "+---+----+----+\n",
            "| ID|   1|   3|\n",
            "+---+----+----+\n",
            "|  C|NULL|   6|\n",
            "|  A|   5|NULL|\n",
            "+---+----+----+\n",
            "\n"
          ]
        }
      ]
    },
    {
      "cell_type": "code",
      "source": [
        "from pyspark.sql.functions import col, expr, explode"
      ],
      "metadata": {
        "id": "qorePsam1RqE"
      },
      "execution_count": 22,
      "outputs": []
    },
    {
      "cell_type": "markdown",
      "source": [
        "### Explode column to rows"
      ],
      "metadata": {
        "id": "yj4v6ptM0_AW"
      }
    },
    {
      "cell_type": "code",
      "source": [
        "data = [(\"A\", 1, 4,5), (\"B\", 2, 5,6), (\"C\", 3, 6,7)]\n",
        "columns = [\"ID\", \"Value1\", \"Value2\",\"Value3\"]"
      ],
      "metadata": {
        "id": "JTXKzWgk09bd"
      },
      "execution_count": 29,
      "outputs": []
    },
    {
      "cell_type": "code",
      "source": [
        "df = spark.createDataFrame(data, columns)"
      ],
      "metadata": {
        "id": "S_qebfJw09fV"
      },
      "execution_count": 30,
      "outputs": []
    },
    {
      "cell_type": "code",
      "source": [
        "print(\"Original DataFrame:\")\n",
        "df.show()"
      ],
      "metadata": {
        "colab": {
          "base_uri": "https://localhost:8080/"
        },
        "id": "JDVoQLeP09iv",
        "outputId": "482d563b-297f-4ba1-f000-675936aaf43f"
      },
      "execution_count": 20,
      "outputs": [
        {
          "output_type": "stream",
          "name": "stdout",
          "text": [
            "Original DataFrame:\n",
            "+---+------+------+\n",
            "| ID|Value1|Value2|\n",
            "+---+------+------+\n",
            "|  A|     1|     4|\n",
            "|  B|     2|     5|\n",
            "|  C|     3|     6|\n",
            "+---+------+------+\n",
            "\n"
          ]
        }
      ]
    },
    {
      "cell_type": "code",
      "source": [
        "transposed_df = (\n",
        "    df.selectExpr(\"ID\", \"stack(2, 'Value1', Value1, 'Value2', Value2) as (Column, TransposedValue)\",\"Value3\")\n",
        ")\n",
        "\n",
        "print(\"\\nTransposed DataFrame using explode:\")\n",
        "transposed_df.show()"
      ],
      "metadata": {
        "colab": {
          "base_uri": "https://localhost:8080/"
        },
        "id": "TNwn0Bd909lV",
        "outputId": "47fd1e00-1ba1-4971-90ae-544458ab9c06"
      },
      "execution_count": 35,
      "outputs": [
        {
          "output_type": "stream",
          "name": "stdout",
          "text": [
            "\n",
            "Transposed DataFrame using explode:\n",
            "+---+------+---------------+------+\n",
            "| ID|Column|TransposedValue|Value3|\n",
            "+---+------+---------------+------+\n",
            "|  A|Value1|              1|     5|\n",
            "|  A|Value2|              4|     5|\n",
            "|  B|Value1|              2|     6|\n",
            "|  B|Value2|              5|     6|\n",
            "|  C|Value1|              3|     7|\n",
            "|  C|Value2|              6|     7|\n",
            "+---+------+---------------+------+\n",
            "\n"
          ]
        }
      ]
    },
    {
      "cell_type": "code",
      "source": [],
      "metadata": {
        "id": "7zTd-l6t09n8"
      },
      "execution_count": null,
      "outputs": []
    },
    {
      "cell_type": "code",
      "source": [],
      "metadata": {
        "id": "wtVSFOCm09qi"
      },
      "execution_count": null,
      "outputs": []
    },
    {
      "cell_type": "code",
      "source": [],
      "metadata": {
        "id": "jQUT0gue09ta"
      },
      "execution_count": null,
      "outputs": []
    }
  ]
}