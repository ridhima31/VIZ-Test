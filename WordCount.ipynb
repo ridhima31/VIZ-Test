{
  "nbformat": 4,
  "nbformat_minor": 0,
  "metadata": {
    "colab": {
      "provenance": [],
      "authorship_tag": "ABX9TyPUIHfB3f5diYME+JVuvtn2",
      "include_colab_link": true
    },
    "kernelspec": {
      "name": "python3",
      "display_name": "Python 3"
    },
    "language_info": {
      "name": "python"
    }
  },
  "cells": [
    {
      "cell_type": "markdown",
      "metadata": {
        "id": "view-in-github",
        "colab_type": "text"
      },
      "source": [
        "<a href=\"https://colab.research.google.com/github/ridhima31/VIZ-Test/blob/master/WordCount.ipynb\" target=\"_parent\"><img src=\"https://colab.research.google.com/assets/colab-badge.svg\" alt=\"Open In Colab\"/></a>"
      ]
    },
    {
      "cell_type": "code",
      "execution_count": 2,
      "metadata": {
        "colab": {
          "base_uri": "https://localhost:8080/"
        },
        "id": "mZv3R44KCMcg",
        "outputId": "0e98d264-e821-47c3-da83-adc53d7e1188"
      },
      "outputs": [
        {
          "output_type": "stream",
          "name": "stdout",
          "text": [
            "Collecting PySpark\n",
            "  Downloading pyspark-3.5.0.tar.gz (316.9 MB)\n",
            "\u001b[2K     \u001b[90m━━━━━━━━━━━━━━━━━━━━━━━━━━━━━━━━━━━━━━━━\u001b[0m \u001b[32m316.9/316.9 MB\u001b[0m \u001b[31m4.1 MB/s\u001b[0m eta \u001b[36m0:00:00\u001b[0m\n",
            "\u001b[?25h  Preparing metadata (setup.py) ... \u001b[?25l\u001b[?25hdone\n",
            "Requirement already satisfied: py4j==0.10.9.7 in /usr/local/lib/python3.10/dist-packages (from PySpark) (0.10.9.7)\n",
            "Building wheels for collected packages: PySpark\n",
            "  Building wheel for PySpark (setup.py) ... \u001b[?25l\u001b[?25hdone\n",
            "  Created wheel for PySpark: filename=pyspark-3.5.0-py2.py3-none-any.whl size=317425345 sha256=93368a4ac425e089857ff3592b9dc2ae8b2c76ac1a358cdeb59cde894f7da29d\n",
            "  Stored in directory: /root/.cache/pip/wheels/41/4e/10/c2cf2467f71c678cfc8a6b9ac9241e5e44a01940da8fbb17fc\n",
            "Successfully built PySpark\n",
            "Installing collected packages: PySpark\n",
            "Successfully installed PySpark-3.5.0\n"
          ]
        }
      ],
      "source": [
        "pip install PySpark"
      ]
    },
    {
      "cell_type": "code",
      "source": [
        "from pyspark.sql import SparkSession\n",
        "from pyspark.sql.functions import split"
      ],
      "metadata": {
        "id": "pvjC6l2dCqvz"
      },
      "execution_count": 3,
      "outputs": []
    },
    {
      "cell_type": "code",
      "source": [
        "text_data = [\"This is a sample sentence.\",\"zi dont know what to do\",\"Lets learn and unlearn\",\"Spark is fun !\"]"
      ],
      "metadata": {
        "id": "GCCNOjwFCwu0"
      },
      "execution_count": 21,
      "outputs": []
    },
    {
      "cell_type": "code",
      "source": [
        "Data_list=[]"
      ],
      "metadata": {
        "id": "vwU_KMsxDr0y"
      },
      "execution_count": 22,
      "outputs": []
    },
    {
      "cell_type": "code",
      "source": [
        "for data in text_data :\n",
        "  Data_list.append(data.split(' '))"
      ],
      "metadata": {
        "id": "Y8YTol26CzSl"
      },
      "execution_count": 23,
      "outputs": []
    },
    {
      "cell_type": "code",
      "source": [
        "print(Data_list)"
      ],
      "metadata": {
        "colab": {
          "base_uri": "https://localhost:8080/"
        },
        "id": "K98rUlMkDfru",
        "outputId": "511bb3b9-1ffc-4bb0-9825-6fcc182c3c04"
      },
      "execution_count": 24,
      "outputs": [
        {
          "output_type": "stream",
          "name": "stdout",
          "text": [
            "[['This', 'is', 'a', 'sample', 'sentence.'], ['zi', 'dont', 'know', 'what', 'to', 'do'], ['Lets', 'learn', 'and', 'unlearn'], ['Spark', 'is', 'fun', '!']]\n"
          ]
        }
      ]
    },
    {
      "cell_type": "code",
      "source": [
        "spark = SparkSession.builder.appName(\"UniqueWordCount\").getOrCreate()"
      ],
      "metadata": {
        "id": "UjLV-6xjEJBZ"
      },
      "execution_count": 25,
      "outputs": []
    },
    {
      "cell_type": "code",
      "source": [
        "df = spark.createDataFrame([(sentence,) for sentence in text_data], [\"text\"])"
      ],
      "metadata": {
        "id": "pmfnLrtoEU3a"
      },
      "execution_count": 26,
      "outputs": []
    },
    {
      "cell_type": "code",
      "source": [
        "df1=spark.createDataFrame([(dlist,) for dlist in Data_list],[\"dlist\"])"
      ],
      "metadata": {
        "id": "0Ej6DDxfEl1V"
      },
      "execution_count": 27,
      "outputs": []
    },
    {
      "cell_type": "code",
      "source": [
        "df1.show()"
      ],
      "metadata": {
        "colab": {
          "base_uri": "https://localhost:8080/"
        },
        "id": "QcvPJTKIFDvT",
        "outputId": "c679b64f-69c5-4e37-8dab-5745810cf45d"
      },
      "execution_count": 28,
      "outputs": [
        {
          "output_type": "stream",
          "name": "stdout",
          "text": [
            "+--------------------+\n",
            "|               dlist|\n",
            "+--------------------+\n",
            "|[This, is, a, sam...|\n",
            "|[zi, dont, know, ...|\n",
            "|[Lets, learn, and...|\n",
            "| [Spark, is, fun, !]|\n",
            "+--------------------+\n",
            "\n"
          ]
        }
      ]
    },
    {
      "cell_type": "code",
      "source": [
        "from pyspark.sql.functions import split, explode, col, desc"
      ],
      "metadata": {
        "id": "2xQGXxcIFJMz"
      },
      "execution_count": 40,
      "outputs": []
    },
    {
      "cell_type": "code",
      "source": [
        "words_df = (((df.select(explode(split(col(\"text\"), \"\\\\s+\")).alias(\"word\"))).groupBy('word').count()).alias(\"wordcount\"))"
      ],
      "metadata": {
        "id": "uJl5qA5GFPtI"
      },
      "execution_count": 52,
      "outputs": []
    },
    {
      "cell_type": "code",
      "source": [
        "words_df.replace(\".\",'')"
      ],
      "metadata": {
        "colab": {
          "base_uri": "https://localhost:8080/"
        },
        "id": "UY-TlBQZGkxk",
        "outputId": "fe927ab6-6a0a-4ddb-ddf8-95346ac3f07f"
      },
      "execution_count": 16,
      "outputs": [
        {
          "output_type": "execute_result",
          "data": {
            "text/plain": [
              "DataFrame[word: string]"
            ]
          },
          "metadata": {},
          "execution_count": 16
        }
      ]
    },
    {
      "cell_type": "code",
      "source": [
        "words_df.where(words_df[\"count\"]>1).show()"
      ],
      "metadata": {
        "colab": {
          "base_uri": "https://localhost:8080/"
        },
        "id": "E81LCN8LFThn",
        "outputId": "b4420e78-88d0-4c7e-d288-cdd29776be55"
      },
      "execution_count": 51,
      "outputs": [
        {
          "output_type": "stream",
          "name": "stdout",
          "text": [
            "+----+-----+\n",
            "|word|count|\n",
            "+----+-----+\n",
            "|  is|    2|\n",
            "+----+-----+\n",
            "\n"
          ]
        }
      ]
    },
    {
      "cell_type": "code",
      "source": [],
      "metadata": {
        "id": "XveopnvQ6wHt"
      },
      "execution_count": null,
      "outputs": []
    }
  ]
}