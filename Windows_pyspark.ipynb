{
  "nbformat": 4,
  "nbformat_minor": 0,
  "metadata": {
    "colab": {
      "provenance": [],
      "authorship_tag": "ABX9TyPqlJtd/Om/IW5+0UzFlHDp",
      "include_colab_link": true
    },
    "kernelspec": {
      "name": "python3",
      "display_name": "Python 3"
    },
    "language_info": {
      "name": "python"
    }
  },
  "cells": [
    {
      "cell_type": "markdown",
      "metadata": {
        "id": "view-in-github",
        "colab_type": "text"
      },
      "source": [
        "<a href=\"https://colab.research.google.com/github/ridhima31/VIZ-Test/blob/master/Windows_pyspark.ipynb\" target=\"_parent\"><img src=\"https://colab.research.google.com/assets/colab-badge.svg\" alt=\"Open In Colab\"/></a>"
      ]
    },
    {
      "cell_type": "code",
      "execution_count": 1,
      "metadata": {
        "colab": {
          "base_uri": "https://localhost:8080/"
        },
        "id": "H7yyY1ceajGN",
        "outputId": "fdc84baf-cfb0-4d9f-9b04-983ab46e1df7"
      },
      "outputs": [
        {
          "output_type": "stream",
          "name": "stdout",
          "text": [
            "Collecting PySpark\n",
            "  Downloading pyspark-3.5.0.tar.gz (316.9 MB)\n",
            "\u001b[2K     \u001b[90m━━━━━━━━━━━━━━━━━━━━━━━━━━━━━━━━━━━━━━━━\u001b[0m \u001b[32m316.9/316.9 MB\u001b[0m \u001b[31m3.4 MB/s\u001b[0m eta \u001b[36m0:00:00\u001b[0m\n",
            "\u001b[?25h  Preparing metadata (setup.py) ... \u001b[?25l\u001b[?25hdone\n",
            "Requirement already satisfied: py4j==0.10.9.7 in /usr/local/lib/python3.10/dist-packages (from PySpark) (0.10.9.7)\n",
            "Building wheels for collected packages: PySpark\n",
            "  Building wheel for PySpark (setup.py) ... \u001b[?25l\u001b[?25hdone\n",
            "  Created wheel for PySpark: filename=pyspark-3.5.0-py2.py3-none-any.whl size=317425345 sha256=eeb9bf60d1dd6f31b9a0a2192a4077199ee1faf596fed82742e1da0f826fdf9a\n",
            "  Stored in directory: /root/.cache/pip/wheels/41/4e/10/c2cf2467f71c678cfc8a6b9ac9241e5e44a01940da8fbb17fc\n",
            "Successfully built PySpark\n",
            "Installing collected packages: PySpark\n",
            "Successfully installed PySpark-3.5.0\n"
          ]
        }
      ],
      "source": [
        "pip install PySpark"
      ]
    },
    {
      "cell_type": "code",
      "source": [
        "from pyspark.sql import SparkSession\n",
        "import pyspark.sql.functions as F"
      ],
      "metadata": {
        "id": "JuY0PfFrd6r7"
      },
      "execution_count": 2,
      "outputs": []
    },
    {
      "cell_type": "code",
      "source": [
        "df = spark.createDataFrame(\n",
        "    [([[\"a\",\"b\",\"c\"], [\"d\",\"e\",\"f\"], [\"g\",\"h\",\"i\", \"j\"]],)],\n",
        "    [\"data\"]\n",
        ")"
      ],
      "metadata": {
        "id": "y9hfZuWvnUGA"
      },
      "execution_count": 101,
      "outputs": []
    },
    {
      "cell_type": "code",
      "source": [
        "df.show()"
      ],
      "metadata": {
        "colab": {
          "base_uri": "https://localhost:8080/"
        },
        "id": "AyQLqxGTnY6_",
        "outputId": "86ab839d-8241-4348-aa3f-1c48e240614f"
      },
      "execution_count": 102,
      "outputs": [
        {
          "output_type": "stream",
          "name": "stdout",
          "text": [
            "+--------------------+\n",
            "|                data|\n",
            "+--------------------+\n",
            "|[[a, b, c], [d, e...|\n",
            "+--------------------+\n",
            "\n"
          ]
        }
      ]
    },
    {
      "cell_type": "code",
      "source": [
        "df1=df.withColumn(\"data1\",F.explode(\"data\"))"
      ],
      "metadata": {
        "id": "xbizYImbnb4s"
      },
      "execution_count": 116,
      "outputs": []
    },
    {
      "cell_type": "code",
      "source": [
        "maxsize=df1.select(F.max(F.size(\"data1\"))).collect()"
      ],
      "metadata": {
        "id": "6fvfGZLhntB0"
      },
      "execution_count": 135,
      "outputs": []
    },
    {
      "cell_type": "code",
      "source": [
        "maxsize[0][0]"
      ],
      "metadata": {
        "colab": {
          "base_uri": "https://localhost:8080/"
        },
        "id": "qCEbh4aRqHQj",
        "outputId": "7ec39678-6350-491c-eea2-93f5aa6db2bf"
      },
      "execution_count": 136,
      "outputs": [
        {
          "output_type": "execute_result",
          "data": {
            "text/plain": [
              "4"
            ]
          },
          "metadata": {},
          "execution_count": 136
        }
      ]
    },
    {
      "cell_type": "code",
      "source": [
        "df1.select(*[df1[\"data1\"][i].alias(f\"col:{i}\") for i in range(maxsize[0][0])]).show()"
      ],
      "metadata": {
        "colab": {
          "base_uri": "https://localhost:8080/"
        },
        "id": "FT1A3iFcpVED",
        "outputId": "bb755313-774d-4713-8488-6f28ab82ef74"
      },
      "execution_count": 138,
      "outputs": [
        {
          "output_type": "stream",
          "name": "stdout",
          "text": [
            "+-----+-----+-----+-----+\n",
            "|col:0|col:1|col:2|col:3|\n",
            "+-----+-----+-----+-----+\n",
            "|    a|    b|    c| NULL|\n",
            "|    d|    e|    f| NULL|\n",
            "|    g|    h|    i|    j|\n",
            "+-----+-----+-----+-----+\n",
            "\n"
          ]
        }
      ]
    },
    {
      "cell_type": "code",
      "source": [],
      "metadata": {
        "id": "qn2ivGGMq3QD"
      },
      "execution_count": null,
      "outputs": []
    },
    {
      "cell_type": "code",
      "source": [],
      "metadata": {
        "id": "XAitJcFGqyTM"
      },
      "execution_count": null,
      "outputs": []
    },
    {
      "cell_type": "markdown",
      "source": [
        "# New problem to join 2 dataframes"
      ],
      "metadata": {
        "id": "-zfIPyX4qyqR"
      }
    },
    {
      "cell_type": "code",
      "source": [
        "from pyspark.sql import Window\n",
        "from datetime import datetime"
      ],
      "metadata": {
        "id": "w3JyrYCjq4It"
      },
      "execution_count": 139,
      "outputs": []
    },
    {
      "cell_type": "code",
      "source": [
        "data = [(\"985XFT82Y4\", \"20200824\"),\n",
        "(\"985XFT82Y4\", \"20200826\"),\n",
        "(\"985XFT82Y4\", \"20200902\"),\n",
        "(\"985XFT82Y4\", \"20200918\"),\n",
        "(\"985XFT82Y4\", \"20200930\"),\n",
        "(\"985XFT82Y4\", \"20201016\"),\n",
        "(\"985XFT82Y4\", \"20201021\"),\n",
        "(\"985XFT82Y4\", \"20201102\"),\n",
        "(\"985XFT82Y4\", \"20201111\"),\n",
        "(\"985XFT82Y4\", \"20201112\"),\n",
        "(\"985XFT82Y4\", \"20201208\"),\n",
        "(\"985XFT82Y4\", \"20210111\"),\n",
        "(\"985XFT82Y4\", \"20210202\"),\n",
        "(\"985XFT82Y4\", \"20210303\"),\n",
        "(\"985XFT82Y4\", \"20210309\"),\n",
        "(\"985XFT82Y4\", \"20210311\")]"
      ],
      "metadata": {
        "id": "chBRt9MRrBw5"
      },
      "execution_count": 140,
      "outputs": []
    },
    {
      "cell_type": "code",
      "source": [
        "p2_df1=spark.createDataFrame(data,[\"cust_id\",\"pd_dt\"]).withColumn(\"pd_dt\",F.to_timestamp(\"pd_dt\",\"yyyymmdd\")).withColumn(\"pd_dt\",F.date_format(\"pd_dt\",\"dd/mm/yyyy\"))"
      ],
      "metadata": {
        "id": "XxUG_ryprQCA"
      },
      "execution_count": 142,
      "outputs": []
    },
    {
      "cell_type": "code",
      "source": [
        "p2_df1.show()"
      ],
      "metadata": {
        "colab": {
          "base_uri": "https://localhost:8080/"
        },
        "id": "Xp9CLhyAr9AN",
        "outputId": "043450fa-3d2c-4c08-edc9-e320dc0cda4c"
      },
      "execution_count": 143,
      "outputs": [
        {
          "output_type": "stream",
          "name": "stdout",
          "text": [
            "+----------+----------+\n",
            "|   cust_id|     pd_dt|\n",
            "+----------+----------+\n",
            "|985XFT82Y4|24/08/2020|\n",
            "|985XFT82Y4|26/08/2020|\n",
            "|985XFT82Y4|02/09/2020|\n",
            "|985XFT82Y4|18/09/2020|\n",
            "|985XFT82Y4|30/09/2020|\n",
            "|985XFT82Y4|16/10/2020|\n",
            "|985XFT82Y4|21/10/2020|\n",
            "|985XFT82Y4|02/11/2020|\n",
            "|985XFT82Y4|11/11/2020|\n",
            "|985XFT82Y4|12/11/2020|\n",
            "|985XFT82Y4|08/12/2020|\n",
            "|985XFT82Y4|11/01/2021|\n",
            "|985XFT82Y4|02/02/2021|\n",
            "|985XFT82Y4|03/03/2021|\n",
            "|985XFT82Y4|09/03/2021|\n",
            "|985XFT82Y4|11/03/2021|\n",
            "+----------+----------+\n",
            "\n"
          ]
        }
      ]
    },
    {
      "cell_type": "code",
      "source": [
        "data1 = [(\"985XFT82Y4\", \"2020-08-24 22:12:34.332000\",  \"subscribed\"),\n",
        "(\"985XFT82Y4\", \"2020-11-11 14:45:31.152000\",  \"installed\"),\n",
        "(\"985XFT82Y4\", \"2021-02-02 01:26:34.500000\",  \"migration\"),\n",
        "(\"985XFT82Y4\", \"2021-03-09 08:11:57.790000\",  \"setup done\")]"
      ],
      "metadata": {
        "id": "Y7JH4xrWsEO0"
      },
      "execution_count": 144,
      "outputs": []
    },
    {
      "cell_type": "code",
      "source": [
        "p2_df2=spark.createDataFrame(data1,[\"cust_id\",\"chg_date\",\"ins_status\"]).withColumn(\"chg_date\",F.to_timestamp(\"chg_date\",'yyyy-MM-dd HH:mm:ss.SSSSSS')).withColumn(\"chg_date\",F.date_format('chg_date','dd-MM-yyyy'))"
      ],
      "metadata": {
        "id": "uDwxnOeWscIv"
      },
      "execution_count": 184,
      "outputs": []
    },
    {
      "cell_type": "code",
      "source": [
        "p2_df2.show()"
      ],
      "metadata": {
        "colab": {
          "base_uri": "https://localhost:8080/"
        },
        "id": "LcOa68o4tTkD",
        "outputId": "eb6c1253-ad04-4fc7-fd88-2b42877774f2"
      },
      "execution_count": 185,
      "outputs": [
        {
          "output_type": "stream",
          "name": "stdout",
          "text": [
            "+----------+----------+----------+\n",
            "|   cust_id|  chg_date|ins_status|\n",
            "+----------+----------+----------+\n",
            "|985XFT82Y4|24-08-2020|subscribed|\n",
            "|985XFT82Y4|11-11-2020| installed|\n",
            "|985XFT82Y4|02-02-2021| migration|\n",
            "|985XFT82Y4|09-03-2021|setup done|\n",
            "+----------+----------+----------+\n",
            "\n"
          ]
        }
      ]
    },
    {
      "cell_type": "code",
      "source": [
        "wd=Window.partitionBy('cust_id').orderBy(\"chg_date\")"
      ],
      "metadata": {
        "id": "BedivLWLvAEk"
      },
      "execution_count": 186,
      "outputs": []
    },
    {
      "cell_type": "code",
      "source": [
        "p2_df3=p2_df2.withColumn(\"next_chnage\", F.lead(\"chg_date\").over(wd)).orderBy(\"chg_date\")"
      ],
      "metadata": {
        "id": "XkDbVSvuvd4z"
      },
      "execution_count": 197,
      "outputs": []
    },
    {
      "cell_type": "code",
      "source": [
        "cond=(p2_df3['cust_id']==p2_df1['cust_id']) & (p2_df1['pd_dt']>=p2_df3[\"chg_date\"] )& (p2_df1['pd_dt']<p2_df3[\"next_chnage\"])"
      ],
      "metadata": {
        "id": "PE-FQR1aw1Fr"
      },
      "execution_count": 210,
      "outputs": []
    },
    {
      "cell_type": "code",
      "source": [
        "p2_df1.join(p2_df3,cond).select(p2_df1[\"cust_id\"],p2_df1[\"pd_dt\"],p2_df3[\"ins_status\"]).orderBy(p2_df1[\"pd_dt\"]).show()"
      ],
      "metadata": {
        "colab": {
          "base_uri": "https://localhost:8080/"
        },
        "id": "vPe7ZJL9zmQ1",
        "outputId": "c7caad92-a23f-45c4-9ccb-00f276d7a5ae"
      },
      "execution_count": 215,
      "outputs": [
        {
          "output_type": "stream",
          "name": "stdout",
          "text": [
            "+----------+----------+----------+\n",
            "|   cust_id|     pd_dt|ins_status|\n",
            "+----------+----------+----------+\n",
            "|985XFT82Y4|02/02/2021| migration|\n",
            "|985XFT82Y4|02/09/2020| migration|\n",
            "|985XFT82Y4|02/11/2020| migration|\n",
            "|985XFT82Y4|03/03/2021| migration|\n",
            "|985XFT82Y4|08/12/2020| migration|\n",
            "|985XFT82Y4|09/03/2021|setup done|\n",
            "|985XFT82Y4|11/01/2021| installed|\n",
            "|985XFT82Y4|11/03/2021| installed|\n",
            "|985XFT82Y4|11/11/2020| installed|\n",
            "|985XFT82Y4|12/11/2020| installed|\n",
            "|985XFT82Y4|16/10/2020| installed|\n",
            "|985XFT82Y4|18/09/2020| installed|\n",
            "|985XFT82Y4|21/10/2020| installed|\n",
            "+----------+----------+----------+\n",
            "\n"
          ]
        }
      ]
    }
  ]
}